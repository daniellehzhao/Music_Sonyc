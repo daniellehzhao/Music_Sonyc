{
 "cells": [
  {
   "cell_type": "code",
   "execution_count": 3,
   "metadata": {},
   "outputs": [],
   "source": [
    "# This is a function that takes in a dataset, list of columns or a column, and a specific class that one would want to focus on.\n",
    "# It creates a df that reads in the data set, drops columns provided by delcolumns, deletes rows from other columns that are not relevant and prints part of the df.\n",
    "\n",
    "def clean(file, delcolumns, trueclass):\n",
    "    df = pd.read_csv(file)\n",
    "    df = df.drop(columns = columns)\n",
    "    df = df.reset_index()\n",
    "    df = df[df[truecol] == True] \n",
    "    df.head()"
   ]
  },
  {
   "cell_type": "code",
   "execution_count": 5,
   "metadata": {},
   "outputs": [],
   "source": [
    "# This is a function that creates a heatmap. It's parameters are a geo dataframe, central location of the map for display, and the lat/long column \n",
    "\n",
    "def heatmap(gdf, location, lat, long):\n",
    "    #set map location, creaty empty map\n",
    "    heatmap = Map(location = location, zoom_start =12)\n",
    "    \n",
    "    #create heatmap\n",
    "    hm = HeatMap(\n",
    "    list(zip(gdf.lat.values, gdf.long.values)),\n",
    "    min_opacity=0.2,\n",
    "    radius=10, \n",
    "    blur=13, \n",
    "    max_zoom=1,\n",
    "    )\n",
    "    \n",
    "    #add heatmap layer to empty layer\n",
    "    heatmap.add_child(hm)\n"
   ]
  },
  {
   "cell_type": "code",
   "execution_count": null,
   "metadata": {},
   "outputs": [],
   "source": [
    "# This is a function that creates a cluster map. It's parameters are a geo dataframe, central location of the map for display, and the lat/long column names which must be strings  \n",
    "\n",
    "def clustermap(gdf, location, lat, long):   \n",
    "    circlemap = folium.Map(location = location, zoom_start =12)\n",
    "    \n",
    "    # add marker for each sensor, use a clustered view (zoom in to see individual sensors)\n",
    "    # added labels for each sensor which displays the sensor number and the counted occurence for music\n",
    "    mc = MarkerCluster()\n",
    "    for index,row in gdf.iterrows():\n",
    "        mc.add_child(folium.Marker(location=[str(row[lat]), str(row[long])],                     \n",
    "        clustered_marker =True))\n",
    "    \n",
    "    # add marker cluster layer to empty map\n",
    "    circlemap.add_child(mc)"
   ]
  }
 ],
 "metadata": {
  "kernelspec": {
   "display_name": "Python 3",
   "language": "python",
   "name": "python3"
  },
  "language_info": {
   "codemirror_mode": {
    "name": "ipython",
    "version": 3
   },
   "file_extension": ".py",
   "mimetype": "text/x-python",
   "name": "python",
   "nbconvert_exporter": "python",
   "pygments_lexer": "ipython3",
   "version": "3.6.11"
  }
 },
 "nbformat": 4,
 "nbformat_minor": 4
}
